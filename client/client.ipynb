{
 "cells": [
  {
   "cell_type": "code",
   "execution_count": 26,
   "metadata": {
    "code_folding": [
     0
    ]
   },
   "outputs": [],
   "source": [
    "#\n",
    "import requests\n",
    "import json\n",
    "import time\n",
    "\n",
    "CONNECTED_NODE_ADDRESS = \"http://127.0.0.1:\"\n",
    "NODE = [\"http://localhost:5000\", \"http://localhost:5001\"]\n",
    "\n",
    "def new_transaction(port):\n",
    "    addr = CONNECTED_NODE_ADDRESS+repr(port)\n",
    "    print(addr)\n",
    "    new_tx_address = \"{}/transactions/new\".format(addr)\n",
    "    ts = time.time()\n",
    "    data = {'ts' : ts,\n",
    "            'sender':'A',\n",
    "            'recipient':'B',\n",
    "            'amount': 5}\n",
    "\n",
    "    response = requests.post(new_tx_address, json=data, headers={'Content-type': 'application/json'})\n",
    "    if response.status_code == 201:\n",
    "        print(json.loads(response.content))\n",
    "\n",
    "\n",
    "def print_worldstate():\n",
    "    response = requests.get(\"{}/print\".format(CONNECTED_NODE_ADDRESS))\n",
    "\n",
    "\n",
    "def register_to_anchor(anchor, node):\n",
    "    data = {'node_address': f'http://localhost:{anchor}'}\n",
    "    register_address = f'http://localhost:{node}/register_with'\n",
    "    response = requests.post(register_address, json=data, headers={\"Content-Type\": 'application/json'})\n",
    "    if response.status_code ==200:\n",
    "        print(json.loads(response.content))\n",
    "\n",
    "\n",
    "def querybalance(key):\n",
    "    url = \"{}/query\".format(NODE[0])\n",
    "    data = {\"key\":key}\n",
    "    response = requests.post(url,json=data, headers={\"Content-Type\":'application/json'})\n",
    "    if response.status_code == 200:\n",
    "        print(response.content)\n",
    "\n",
    "def wholeshardquery(key):\n",
    "    url = \"{}/wholeshardquery\".format(NODE[0])\n",
    "    data = {\"sender\":key}\n",
    "    response = requests.post(url,json=data, headers={\"Content-Type\":'application/json'})\n",
    "\n",
    "    print(response.content)\n",
    "\n",
    "def shardinit():\n",
    "    response=requests.get(CONNECTED_NODE_ADDRESS+\"5000/shardinit\")\n",
    "    print(response.content)\n",
    "\n",
    "def printchain(port):\n",
    "    url = \"{}/printchain\".format(CONNECTED_NODE_ADDRESS+repr(port))\n",
    "    response = requests.get(url)\n",
    "    print(response.content)\n",
    "    \n",
    "def shardedchain(port):\n",
    "    url = f'{CONNECTED_NODE_ADDRESS +repr(port)}/shardedchain/5003'\n",
    "    response = requests.get(url)\n",
    "    print(response.content)\n",
    "    \n",
    "def getsize(port):\n",
    "    url = f'{CONNECTED_NODE_ADDRESS+repr(port)}/getsize'\n",
    "    response= requests.get(url)\n",
    "    print(response.content)\n",
    "    "
   ]
  },
  {
   "cell_type": "code",
   "execution_count": 62,
   "metadata": {
    "code_folding": [
     0,
     6
    ],
    "scrolled": true
   },
   "outputs": [
    {
     "name": "stdout",
     "output_type": "stream",
     "text": [
      "http://127.0.0.1:5000\n",
      "{'message': 'Transaction added to Block 1'}\n",
      "http://127.0.0.1:5000\n",
      "{'message': 'Transaction added to Block 2'}\n",
      "http://127.0.0.1:5000\n",
      "{'message': 'Transaction added to Block 3'}\n",
      "http://127.0.0.1:5000\n",
      "{'message': 'Transaction added to Block 4'}\n",
      "Registration successful\n",
      "b'init shard returned'\n",
      "http://127.0.0.1:5000\n",
      "{'message': 'Transaction added to Block 3'}\n",
      "http://127.0.0.1:5001\n",
      "{'message': 'Transaction added to Block 5'}\n",
      "http://127.0.0.1:5000\n",
      "{'message': 'Transaction added to Block 6'}\n",
      "http://127.0.0.1:5001\n",
      "{'message': 'Transaction added to Block 6'}\n",
      "http://127.0.0.1:5000\n",
      "{'message': 'Transaction added to Block 7'}\n",
      "http://127.0.0.1:5001\n",
      "{'message': 'Transaction added to Block 7'}\n",
      "http://127.0.0.1:5000\n",
      "{'message': 'Transaction added to Block 8'}\n",
      "http://127.0.0.1:5001\n",
      "{'message': 'Transaction added to Block 8'}\n",
      "b'init shard returned'\n",
      "b'print chain'\n",
      "b'print chain'\n"
     ]
    }
   ],
   "source": [
    "for i in range(4):\n",
    "   new_transaction(5000)\n",
    "\n",
    "register_to_anchor(5000,5001)\n",
    "shardinit()\n",
    "\n",
    "for i in range(4):\n",
    "    new_transaction(5000)\n",
    "    new_transaction(5001)\n",
    "shardinit()\n",
    "\n",
    "printchain(5000)\n",
    "printchain(5001)"
   ]
  },
  {
   "cell_type": "code",
   "execution_count": 37,
   "metadata": {},
   "outputs": [
    {
     "name": "stdout",
     "output_type": "stream",
     "text": [
      "b'whole shard function returned'\n"
     ]
    }
   ],
   "source": [
    "wholeshardquery('A')"
   ]
  },
  {
   "cell_type": "code",
   "execution_count": 55,
   "metadata": {},
   "outputs": [
    {
     "name": "stdout",
     "output_type": "stream",
     "text": [
      "b'init shard returned'\n"
     ]
    }
   ],
   "source": [
    "shardinit()"
   ]
  },
  {
   "cell_type": "code",
   "execution_count": 13,
   "metadata": {
    "scrolled": true
   },
   "outputs": [
    {
     "name": "stdout",
     "output_type": "stream",
     "text": [
      "b'<!DOCTYPE HTML PUBLIC \"-//W3C//DTD HTML 4.01 Transitional//EN\"\\n  \"http://www.w3.org/TR/html4/loose.dtd\">\\n<html>\\n  <head>\\n    <title>KeyError: \\'http://localhost:5000/\\' // Werkzeug Debugger</title>\\n    <link rel=\"stylesheet\" href=\"?__debugger__=yes&amp;cmd=resource&amp;f=style.css\"\\n        type=\"text/css\">\\n    <!-- We need to make sure this has a favicon so that the debugger does\\n         not by accident trigger a request to /favicon.ico which might\\n         change the application state. -->\\n    <link rel=\"shortcut icon\"\\n        href=\"?__debugger__=yes&amp;cmd=resource&amp;f=console.png\">\\n    <script src=\"?__debugger__=yes&amp;cmd=resource&amp;f=jquery.js\"></script>\\n    <script src=\"?__debugger__=yes&amp;cmd=resource&amp;f=debugger.js\"></script>\\n    <script type=\"text/javascript\">\\n      var TRACEBACK = 140490711068368,\\n          CONSOLE_MODE = false,\\n          EVALEX = true,\\n          EVALEX_TRUSTED = false,\\n          SECRET = \"UeW0q4aqKkIQbmGg5AT0\";\\n    </script>\\n  </head>\\n  <body style=\"background-color: #fff\">\\n    <div class=\"debugger\">\\n<h1>KeyError</h1>\\n<div class=\"detail\">\\n  <p class=\"errormsg\">KeyError: \\'http://localhost:5000/\\'</p>\\n</div>\\n<h2 class=\"traceback\">Traceback <em>(most recent call last)</em></h2>\\n<div class=\"traceback\">\\n  \\n  <ul><li><div class=\"frame\" id=\"frame-140490711068560\">\\n  <h4>File <cite class=\"filename\">\"/home/mhr/anaconda3/lib/python3.7/site-packages/flask/app.py\"</cite>,\\n      line <em class=\"line\">2463</em>,\\n      in <code class=\"function\">__call__</code></h4>\\n  <div class=\"source library\"><pre class=\"line before\"><span class=\"ws\"></span> </pre>\\n<pre class=\"line before\"><span class=\"ws\">    </span>def __call__(self, environ, start_response):</pre>\\n<pre class=\"line before\"><span class=\"ws\">        </span>&quot;&quot;&quot;The WSGI server calls the Flask application object as the</pre>\\n<pre class=\"line before\"><span class=\"ws\">        </span>WSGI application. This calls :meth:`wsgi_app` which can be</pre>\\n<pre class=\"line before\"><span class=\"ws\">        </span>wrapped to applying middleware.&quot;&quot;&quot;</pre>\\n<pre class=\"line current\"><span class=\"ws\">        </span>return self.wsgi_app(environ, start_response)</pre>\\n<pre class=\"line after\"><span class=\"ws\"></span> </pre>\\n<pre class=\"line after\"><span class=\"ws\">    </span>def __repr__(self):</pre>\\n<pre class=\"line after\"><span class=\"ws\">        </span>return &quot;&lt;%s %r&gt;&quot; % (self.__class__.__name__, self.name)</pre></div>\\n</div>\\n\\n<li><div class=\"frame\" id=\"frame-140490711068624\">\\n  <h4>File <cite class=\"filename\">\"/home/mhr/anaconda3/lib/python3.7/site-packages/flask/app.py\"</cite>,\\n      line <em class=\"line\">2449</em>,\\n      in <code class=\"function\">wsgi_app</code></h4>\\n  <div class=\"source library\"><pre class=\"line before\"><span class=\"ws\">            </span>try:</pre>\\n<pre class=\"line before\"><span class=\"ws\">                </span>ctx.push()</pre>\\n<pre class=\"line before\"><span class=\"ws\">                </span>response = self.full_dispatch_request()</pre>\\n<pre class=\"line before\"><span class=\"ws\">            </span>except Exception as e:</pre>\\n<pre class=\"line before\"><span class=\"ws\">                </span>error = e</pre>\\n<pre class=\"line current\"><span class=\"ws\">                </span>response = self.handle_exception(e)</pre>\\n<pre class=\"line after\"><span class=\"ws\">            </span>except:  # noqa: B001</pre>\\n<pre class=\"line after\"><span class=\"ws\">                </span>error = sys.exc_info()[1]</pre>\\n<pre class=\"line after\"><span class=\"ws\">                </span>raise</pre>\\n<pre class=\"line after\"><span class=\"ws\">            </span>return response(environ, start_response)</pre>\\n<pre class=\"line after\"><span class=\"ws\">        </span>finally:</pre></div>\\n</div>\\n\\n<li><div class=\"frame\" id=\"frame-140490711142928\">\\n  <h4>File <cite class=\"filename\">\"/home/mhr/anaconda3/lib/python3.7/site-packages/flask/app.py\"</cite>,\\n      line <em class=\"line\">1866</em>,\\n      in <code class=\"function\">handle_exception</code></h4>\\n  <div class=\"source library\"><pre class=\"line before\"><span class=\"ws\">            </span># if we want to repropagate the exception, we can attempt to</pre>\\n<pre class=\"line before\"><span class=\"ws\">            </span># raise it with the whole traceback in case we can do that</pre>\\n<pre class=\"line before\"><span class=\"ws\">            </span># (the function was actually called from the except part)</pre>\\n<pre class=\"line before\"><span class=\"ws\">            </span># otherwise, we just raise the error again</pre>\\n<pre class=\"line before\"><span class=\"ws\">            </span>if exc_value is e:</pre>\\n<pre class=\"line current\"><span class=\"ws\">                </span>reraise(exc_type, exc_value, tb)</pre>\\n<pre class=\"line after\"><span class=\"ws\">            </span>else:</pre>\\n<pre class=\"line after\"><span class=\"ws\">                </span>raise e</pre>\\n<pre class=\"line after\"><span class=\"ws\"></span> </pre>\\n<pre class=\"line after\"><span class=\"ws\">        </span>self.log_exception((exc_type, exc_value, tb))</pre>\\n<pre class=\"line after\"><span class=\"ws\">        </span>server_error = InternalServerError()</pre></div>\\n</div>\\n\\n<li><div class=\"frame\" id=\"frame-140490711142864\">\\n  <h4>File <cite class=\"filename\">\"/home/mhr/anaconda3/lib/python3.7/site-packages/flask/_compat.py\"</cite>,\\n      line <em class=\"line\">39</em>,\\n      in <code class=\"function\">reraise</code></h4>\\n  <div class=\"source library\"><pre class=\"line before\"><span class=\"ws\">    </span>import collections.abc as collections_abc</pre>\\n<pre class=\"line before\"><span class=\"ws\"></span> </pre>\\n<pre class=\"line before\"><span class=\"ws\">    </span>def reraise(tp, value, tb=None):</pre>\\n<pre class=\"line before\"><span class=\"ws\">        </span>if value.__traceback__ is not tb:</pre>\\n<pre class=\"line before\"><span class=\"ws\">            </span>raise value.with_traceback(tb)</pre>\\n<pre class=\"line current\"><span class=\"ws\">        </span>raise value</pre>\\n<pre class=\"line after\"><span class=\"ws\"></span> </pre>\\n<pre class=\"line after\"><span class=\"ws\">    </span>implements_to_string = _identity</pre>\\n<pre class=\"line after\"><span class=\"ws\"></span> </pre>\\n<pre class=\"line after\"><span class=\"ws\"></span>else:</pre>\\n<pre class=\"line after\"><span class=\"ws\">    </span>iterkeys = lambda d: d.iterkeys()</pre></div>\\n</div>\\n\\n<li><div class=\"frame\" id=\"frame-140490711142736\">\\n  <h4>File <cite class=\"filename\">\"/home/mhr/anaconda3/lib/python3.7/site-packages/flask/app.py\"</cite>,\\n      line <em class=\"line\">2446</em>,\\n      in <code class=\"function\">wsgi_app</code></h4>\\n  <div class=\"source library\"><pre class=\"line before\"><span class=\"ws\">        </span>ctx = self.request_context(environ)</pre>\\n<pre class=\"line before\"><span class=\"ws\">        </span>error = None</pre>\\n<pre class=\"line before\"><span class=\"ws\">        </span>try:</pre>\\n<pre class=\"line before\"><span class=\"ws\">            </span>try:</pre>\\n<pre class=\"line before\"><span class=\"ws\">                </span>ctx.push()</pre>\\n<pre class=\"line current\"><span class=\"ws\">                </span>response = self.full_dispatch_request()</pre>\\n<pre class=\"line after\"><span class=\"ws\">            </span>except Exception as e:</pre>\\n<pre class=\"line after\"><span class=\"ws\">                </span>error = e</pre>\\n<pre class=\"line after\"><span class=\"ws\">                </span>response = self.handle_exception(e)</pre>\\n<pre class=\"line after\"><span class=\"ws\">            </span>except:  # noqa: B001</pre>\\n<pre class=\"line after\"><span class=\"ws\">                </span>error = sys.exc_info()[1]</pre></div>\\n</div>\\n\\n<li><div class=\"frame\" id=\"frame-140490711143248\">\\n  <h4>File <cite class=\"filename\">\"/home/mhr/anaconda3/lib/python3.7/site-packages/flask/app.py\"</cite>,\\n      line <em class=\"line\">1951</em>,\\n      in <code class=\"function\">full_dispatch_request</code></h4>\\n  <div class=\"source library\"><pre class=\"line before\"><span class=\"ws\">            </span>request_started.send(self)</pre>\\n<pre class=\"line before\"><span class=\"ws\">            </span>rv = self.preprocess_request()</pre>\\n<pre class=\"line before\"><span class=\"ws\">            </span>if rv is None:</pre>\\n<pre class=\"line before\"><span class=\"ws\">                </span>rv = self.dispatch_request()</pre>\\n<pre class=\"line before\"><span class=\"ws\">        </span>except Exception as e:</pre>\\n<pre class=\"line current\"><span class=\"ws\">            </span>rv = self.handle_user_exception(e)</pre>\\n<pre class=\"line after\"><span class=\"ws\">        </span>return self.finalize_request(rv)</pre>\\n<pre class=\"line after\"><span class=\"ws\"></span> </pre>\\n<pre class=\"line after\"><span class=\"ws\">    </span>def finalize_request(self, rv, from_error_handler=False):</pre>\\n<pre class=\"line after\"><span class=\"ws\">        </span>&quot;&quot;&quot;Given the return value from a view function this finalizes</pre>\\n<pre class=\"line after\"><span class=\"ws\">        </span>the request by converting it into a response and invoking the</pre></div>\\n</div>\\n\\n<li><div class=\"frame\" id=\"frame-140490711142992\">\\n  <h4>File <cite class=\"filename\">\"/home/mhr/anaconda3/lib/python3.7/site-packages/flask/app.py\"</cite>,\\n      line <em class=\"line\">1820</em>,\\n      in <code class=\"function\">handle_user_exception</code></h4>\\n  <div class=\"source library\"><pre class=\"line before\"><span class=\"ws\">            </span>return self.handle_http_exception(e)</pre>\\n<pre class=\"line before\"><span class=\"ws\"></span> </pre>\\n<pre class=\"line before\"><span class=\"ws\">        </span>handler = self._find_error_handler(e)</pre>\\n<pre class=\"line before\"><span class=\"ws\"></span> </pre>\\n<pre class=\"line before\"><span class=\"ws\">        </span>if handler is None:</pre>\\n<pre class=\"line current\"><span class=\"ws\">            </span>reraise(exc_type, exc_value, tb)</pre>\\n<pre class=\"line after\"><span class=\"ws\">        </span>return handler(e)</pre>\\n<pre class=\"line after\"><span class=\"ws\"></span> </pre>\\n<pre class=\"line after\"><span class=\"ws\">    </span>def handle_exception(self, e):</pre>\\n<pre class=\"line after\"><span class=\"ws\">        </span>&quot;&quot;&quot;Handle an exception that did not have an error handler</pre>\\n<pre class=\"line after\"><span class=\"ws\">        </span>associated with it, or that was raised from an error handler.</pre></div>\\n</div>\\n\\n<li><div class=\"frame\" id=\"frame-140490711142480\">\\n  <h4>File <cite class=\"filename\">\"/home/mhr/anaconda3/lib/python3.7/site-packages/flask/_compat.py\"</cite>,\\n      line <em class=\"line\">39</em>,\\n      in <code class=\"function\">reraise</code></h4>\\n  <div class=\"source library\"><pre class=\"line before\"><span class=\"ws\">    </span>import collections.abc as collections_abc</pre>\\n<pre class=\"line before\"><span class=\"ws\"></span> </pre>\\n<pre class=\"line before\"><span class=\"ws\">    </span>def reraise(tp, value, tb=None):</pre>\\n<pre class=\"line before\"><span class=\"ws\">        </span>if value.__traceback__ is not tb:</pre>\\n<pre class=\"line before\"><span class=\"ws\">            </span>raise value.with_traceback(tb)</pre>\\n<pre class=\"line current\"><span class=\"ws\">        </span>raise value</pre>\\n<pre class=\"line after\"><span class=\"ws\"></span> </pre>\\n<pre class=\"line after\"><span class=\"ws\">    </span>implements_to_string = _identity</pre>\\n<pre class=\"line after\"><span class=\"ws\"></span> </pre>\\n<pre class=\"line after\"><span class=\"ws\"></span>else:</pre>\\n<pre class=\"line after\"><span class=\"ws\">    </span>iterkeys = lambda d: d.iterkeys()</pre></div>\\n</div>\\n\\n<li><div class=\"frame\" id=\"frame-140490711143184\">\\n  <h4>File <cite class=\"filename\">\"/home/mhr/anaconda3/lib/python3.7/site-packages/flask/app.py\"</cite>,\\n      line <em class=\"line\">1949</em>,\\n      in <code class=\"function\">full_dispatch_request</code></h4>\\n  <div class=\"source library\"><pre class=\"line before\"><span class=\"ws\">        </span>self.try_trigger_before_first_request_functions()</pre>\\n<pre class=\"line before\"><span class=\"ws\">        </span>try:</pre>\\n<pre class=\"line before\"><span class=\"ws\">            </span>request_started.send(self)</pre>\\n<pre class=\"line before\"><span class=\"ws\">            </span>rv = self.preprocess_request()</pre>\\n<pre class=\"line before\"><span class=\"ws\">            </span>if rv is None:</pre>\\n<pre class=\"line current\"><span class=\"ws\">                </span>rv = self.dispatch_request()</pre>\\n<pre class=\"line after\"><span class=\"ws\">        </span>except Exception as e:</pre>\\n<pre class=\"line after\"><span class=\"ws\">            </span>rv = self.handle_user_exception(e)</pre>\\n<pre class=\"line after\"><span class=\"ws\">        </span>return self.finalize_request(rv)</pre>\\n<pre class=\"line after\"><span class=\"ws\"></span> </pre>\\n<pre class=\"line after\"><span class=\"ws\">    </span>def finalize_request(self, rv, from_error_handler=False):</pre></div>\\n</div>\\n\\n<li><div class=\"frame\" id=\"frame-140490711142800\">\\n  <h4>File <cite class=\"filename\">\"/home/mhr/anaconda3/lib/python3.7/site-packages/flask/app.py\"</cite>,\\n      line <em class=\"line\">1935</em>,\\n      in <code class=\"function\">dispatch_request</code></h4>\\n  <div class=\"source library\"><pre class=\"line before\"><span class=\"ws\">            </span>getattr(rule, &quot;provide_automatic_options&quot;, False)</pre>\\n<pre class=\"line before\"><span class=\"ws\">            </span>and req.method == &quot;OPTIONS&quot;</pre>\\n<pre class=\"line before\"><span class=\"ws\">        </span>):</pre>\\n<pre class=\"line before\"><span class=\"ws\">            </span>return self.make_default_options_response()</pre>\\n<pre class=\"line before\"><span class=\"ws\">        </span># otherwise dispatch to the handler for that endpoint</pre>\\n<pre class=\"line current\"><span class=\"ws\">        </span>return self.view_functions[rule.endpoint](**req.view_args)</pre>\\n<pre class=\"line after\"><span class=\"ws\"></span> </pre>\\n<pre class=\"line after\"><span class=\"ws\">    </span>def full_dispatch_request(self):</pre>\\n<pre class=\"line after\"><span class=\"ws\">        </span>&quot;&quot;&quot;Dispatches the request and on top of that performs request</pre>\\n<pre class=\"line after\"><span class=\"ws\">        </span>pre and postprocessing as well as HTTP exception catching and</pre>\\n<pre class=\"line after\"><span class=\"ws\">        </span>error handling.</pre></div>\\n</div>\\n\\n<li><div class=\"frame\" id=\"frame-140490711143120\">\\n  <h4>File <cite class=\"filename\">\"/home/mhr/PycharmProjects/scikit/venv/thesis/peer/peer.py\"</cite>,\\n      line <em class=\"line\">102</em>,\\n      in <code class=\"function\">sharded_chain</code></h4>\\n  <div class=\"source \"><pre class=\"line before\"><span class=\"ws\"></span>@app.route(&quot;/shardedchain/&lt;node_address&gt;&quot;,methods=[\\'GET\\'])</pre>\\n<pre class=\"line before\"><span class=\"ws\"></span>def sharded_chain(node_address):</pre>\\n<pre class=\"line before\"><span class=\"ws\">    </span>chain_data=[]</pre>\\n<pre class=\"line before\"><span class=\"ws\">    </span>shard = []</pre>\\n<pre class=\"line before\"><span class=\"ws\">    </span>tracker.printshard()</pre>\\n<pre class=\"line current\"><span class=\"ws\">    </span>k = min(len(tracker.node_to_shard[SELF_KEY]), len(tracker.node_to_shard), len(tracker.shard_to_node))</pre>\\n<pre class=\"line after\"><span class=\"ws\">    </span>print(\\'giving \\',k,\\' shards\\')</pre>\\n<pre class=\"line after\"><span class=\"ws\">    </span>track = blockchain.ShardInfoTracker()</pre>\\n<pre class=\"line after\"><span class=\"ws\">    </span>i=1</pre>\\n<pre class=\"line after\"><span class=\"ws\">    </span>while k&gt;0:</pre>\\n<pre class=\"line after\"><span class=\"ws\">        </span>node = tracker.remove_shard(i)</pre></div>\\n</div>\\n</ul>\\n  <blockquote>KeyError: \\'http://localhost:5000/\\'</blockquote>\\n</div>\\n\\n<div class=\"plain\">\\n  <form action=\"/?__debugger__=yes&amp;cmd=paste\" method=\"post\">\\n    <p>\\n      <input type=\"hidden\" name=\"language\" value=\"pytb\">\\n      This is the Copy/Paste friendly version of the traceback.  <span\\n      class=\"pastemessage\">You can also paste this traceback into\\n      a <a href=\"https://gist.github.com/\">gist</a>:\\n      <input type=\"submit\" value=\"create paste\"></span>\\n    </p>\\n    <textarea cols=\"50\" rows=\"10\" name=\"code\" readonly>Traceback (most recent call last):\\n  File &quot;/home/mhr/anaconda3/lib/python3.7/site-packages/flask/app.py&quot;, line 2463, in __call__\\n    return self.wsgi_app(environ, start_response)\\n  File &quot;/home/mhr/anaconda3/lib/python3.7/site-packages/flask/app.py&quot;, line 2449, in wsgi_app\\n    response = self.handle_exception(e)\\n  File &quot;/home/mhr/anaconda3/lib/python3.7/site-packages/flask/app.py&quot;, line 1866, in handle_exception\\n    reraise(exc_type, exc_value, tb)\\n  File &quot;/home/mhr/anaconda3/lib/python3.7/site-packages/flask/_compat.py&quot;, line 39, in reraise\\n    raise value\\n  File &quot;/home/mhr/anaconda3/lib/python3.7/site-packages/flask/app.py&quot;, line 2446, in wsgi_app\\n    response = self.full_dispatch_request()\\n  File &quot;/home/mhr/anaconda3/lib/python3.7/site-packages/flask/app.py&quot;, line 1951, in full_dispatch_request\\n    rv = self.handle_user_exception(e)\\n  File &quot;/home/mhr/anaconda3/lib/python3.7/site-packages/flask/app.py&quot;, line 1820, in handle_user_exception\\n    reraise(exc_type, exc_value, tb)\\n  File &quot;/home/mhr/anaconda3/lib/python3.7/site-packages/flask/_compat.py&quot;, line 39, in reraise\\n    raise value\\n  File &quot;/home/mhr/anaconda3/lib/python3.7/site-packages/flask/app.py&quot;, line 1949, in full_dispatch_request\\n    rv = self.dispatch_request()\\n  File &quot;/home/mhr/anaconda3/lib/python3.7/site-packages/flask/app.py&quot;, line 1935, in dispatch_request\\n    return self.view_functions[rule.endpoint](**req.view_args)\\n  File &quot;/home/mhr/PycharmProjects/scikit/venv/thesis/peer/peer.py&quot;, line 102, in sharded_chain\\n    k = min(len(tracker.node_to_shard[SELF_KEY]), len(tracker.node_to_shard), len(tracker.shard_to_node))\\nKeyError: \\'http://localhost:5000/\\'</textarea>\\n  </form>\\n</div>\\n<div class=\"explanation\">\\n  The debugger caught an exception in your WSGI application.  You can now\\n  look at the traceback which led to the error.  <span class=\"nojavascript\">\\n  If you enable JavaScript you can also use additional features such as code\\n  execution (if the evalex feature is enabled), automatic pasting of the\\n  exceptions and much more.</span>\\n</div>\\n      <div class=\"footer\">\\n        Brought to you by <strong class=\"arthur\">DON\\'T PANIC</strong>, your\\n        friendly Werkzeug powered traceback interpreter.\\n      </div>\\n    </div>\\n\\n    <div class=\"pin-prompt\">\\n      <div class=\"inner\">\\n        <h3>Console Locked</h3>\\n        <p>\\n          The console is locked and needs to be unlocked by entering the PIN.\\n          You can find the PIN printed out on the standard output of your\\n          shell that runs the server.\\n        <form>\\n          <p>PIN:\\n            <input type=text name=pin size=14>\\n            <input type=submit name=btn value=\"Confirm Pin\">\\n        </form>\\n      </div>\\n    </div>\\n  </body>\\n</html>\\n\\n<!--\\n\\nTraceback (most recent call last):\\n  File \"/home/mhr/anaconda3/lib/python3.7/site-packages/flask/app.py\", line 2463, in __call__\\n    return self.wsgi_app(environ, start_response)\\n  File \"/home/mhr/anaconda3/lib/python3.7/site-packages/flask/app.py\", line 2449, in wsgi_app\\n    response = self.handle_exception(e)\\n  File \"/home/mhr/anaconda3/lib/python3.7/site-packages/flask/app.py\", line 1866, in handle_exception\\n    reraise(exc_type, exc_value, tb)\\n  File \"/home/mhr/anaconda3/lib/python3.7/site-packages/flask/_compat.py\", line 39, in reraise\\n    raise value\\n  File \"/home/mhr/anaconda3/lib/python3.7/site-packages/flask/app.py\", line 2446, in wsgi_app\\n    response = self.full_dispatch_request()\\n  File \"/home/mhr/anaconda3/lib/python3.7/site-packages/flask/app.py\", line 1951, in full_dispatch_request\\n    rv = self.handle_user_exception(e)\\n  File \"/home/mhr/anaconda3/lib/python3.7/site-packages/flask/app.py\", line 1820, in handle_user_exception\\n    reraise(exc_type, exc_value, tb)\\n  File \"/home/mhr/anaconda3/lib/python3.7/site-packages/flask/_compat.py\", line 39, in reraise\\n    raise value\\n  File \"/home/mhr/anaconda3/lib/python3.7/site-packages/flask/app.py\", line 1949, in full_dispatch_request\\n    rv = self.dispatch_request()\\n  File \"/home/mhr/anaconda3/lib/python3.7/site-packages/flask/app.py\", line 1935, in dispatch_request\\n    return self.view_functions[rule.endpoint](**req.view_args)\\n  File \"/home/mhr/PycharmProjects/scikit/venv/thesis/peer/peer.py\", line 102, in sharded_chain\\n    k = min(len(tracker.node_to_shard[SELF_KEY]), len(tracker.node_to_shard), len(tracker.shard_to_node))\\nKeyError: \\'http://localhost:5000/\\'\\n\\n-->\\n'\n"
     ]
    }
   ],
   "source": [
    "shardedchain(5000)"
   ]
  },
  {
   "cell_type": "code",
   "execution_count": 10,
   "metadata": {},
   "outputs": [
    {
     "name": "stdout",
     "output_type": "stream",
     "text": [
      "b'get size function returned'\n"
     ]
    }
   ],
   "source": [
    "getsize(5000)"
   ]
  },
  {
   "cell_type": "code",
   "execution_count": 63,
   "metadata": {},
   "outputs": [
    {
     "name": "stdout",
     "output_type": "stream",
     "text": [
      "Registration successful\n"
     ]
    }
   ],
   "source": [
    "register_to_anchor(5000,5002)"
   ]
  },
  {
   "cell_type": "code",
   "execution_count": 57,
   "metadata": {},
   "outputs": [
    {
     "name": "stdout",
     "output_type": "stream",
     "text": [
      "b'print chain'\n"
     ]
    }
   ],
   "source": [
    "printchain(5002)"
   ]
  },
  {
   "cell_type": "code",
   "execution_count": null,
   "metadata": {},
   "outputs": [],
   "source": []
  }
 ],
 "metadata": {
  "kernelspec": {
   "display_name": "Python 3",
   "language": "python",
   "name": "python3"
  },
  "language_info": {
   "codemirror_mode": {
    "name": "ipython",
    "version": 3
   },
   "file_extension": ".py",
   "mimetype": "text/x-python",
   "name": "python",
   "nbconvert_exporter": "python",
   "pygments_lexer": "ipython3",
   "version": "3.7.4"
  }
 },
 "nbformat": 4,
 "nbformat_minor": 2
}
